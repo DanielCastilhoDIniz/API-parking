{
 "cells": [
  {
   "cell_type": "code",
   "execution_count": 1,
   "metadata": {},
   "outputs": [],
   "source": [
    "import json\n",
    "import requests"
   ]
  },
  {
   "cell_type": "code",
   "execution_count": 22,
   "metadata": {},
   "outputs": [],
   "source": [
    "cep = 58051200"
   ]
  },
  {
   "cell_type": "code",
   "execution_count": 29,
   "metadata": {},
   "outputs": [
    {
     "name": "stdout",
     "output_type": "stream",
     "text": [
      "{'cep': '58051200', 'address_type': 'Rua', 'address_name': 'Lindolfo Gonçalves Chaves', 'address': 'Rua Lindolfo Gonçalves Chaves', 'state': 'PB', 'district': 'Jardim São Paulo', 'lat': '-7.14852', 'lng': '-34.84686', 'city': 'João Pessoa', 'city_ibge': '2507507', 'ddd': '83'}\n"
     ]
    }
   ],
   "source": [
    "mapas =requests.get(f'https://cep.awesomeapi.com.br/json/{cep}')\n",
    "endereco_dic = mapas.json()\n",
    "print(endereco_dic)\n"
   ]
  },
  {
   "cell_type": "code",
   "execution_count": null,
   "metadata": {},
   "outputs": [],
   "source": []
  }
 ],
 "metadata": {
  "kernelspec": {
   "display_name": "Python 3",
   "language": "python",
   "name": "python3"
  },
  "language_info": {
   "codemirror_mode": {
    "name": "ipython",
    "version": 3
   },
   "file_extension": ".py",
   "mimetype": "text/x-python",
   "name": "python",
   "nbconvert_exporter": "python",
   "pygments_lexer": "ipython3",
   "version": "3.11.3"
  },
  "orig_nbformat": 4
 },
 "nbformat": 4,
 "nbformat_minor": 2
}
